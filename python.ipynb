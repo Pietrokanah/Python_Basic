{
  "nbformat": 4,
  "nbformat_minor": 0,
  "metadata": {
    "colab": {
      "provenance": [],
      "authorship_tag": "ABX9TyPfZcy2jws52i92ByblGSEN",
      "include_colab_link": true
    },
    "kernelspec": {
      "name": "python3",
      "display_name": "Python 3"
    },
    "language_info": {
      "name": "python"
    }
  },
  "cells": [
    {
      "cell_type": "markdown",
      "metadata": {
        "id": "view-in-github",
        "colab_type": "text"
      },
      "source": [
        "<a href=\"https://colab.research.google.com/github/Pietrokanah/Python_Basic/blob/main/python.ipynb\" target=\"_parent\"><img src=\"https://colab.research.google.com/assets/colab-badge.svg\" alt=\"Open In Colab\"/></a>"
      ]
    },
    {
      "cell_type": "code",
      "execution_count": null,
      "metadata": {
        "id": "BOknqF7Dhp_x",
        "outputId": "4577df4d-3498-4567-e45d-eb37b3980d4a",
        "colab": {
          "base_uri": "https://localhost:8080/"
        }
      },
      "outputs": [
        {
          "output_type": "stream",
          "name": "stdout",
          "text": [
            "I Competiçáo de Programação da Start\n"
          ]
        }
      ],
      "source": [
        "print(\"I Competiçáo de Programação da Start\")"
      ]
    },
    {
      "cell_type": "code",
      "source": [
        "ano=\"II\"\n",
        "print(ano, \"Competição de Programação da Start\")"
      ],
      "metadata": {
        "id": "MF3yaHKUjkYO",
        "outputId": "c7a87f90-dfc1-42b6-be04-e4a03fe2e451",
        "colab": {
          "base_uri": "https://localhost:8080/"
        }
      },
      "execution_count": null,
      "outputs": [
        {
          "output_type": "stream",
          "name": "stdout",
          "text": [
            "II Competição de Programação da Start\n"
          ]
        }
      ]
    },
    {
      "cell_type": "code",
      "source": [
        "print(f\"{ano} Competição de Programação da Start\")"
      ],
      "metadata": {
        "id": "E0KoRs1qjyWX",
        "outputId": "133e4199-4b35-4ec6-bc1c-e50375619fe8",
        "colab": {
          "base_uri": "https://localhost:8080/"
        }
      },
      "execution_count": null,
      "outputs": [
        {
          "output_type": "stream",
          "name": "stdout",
          "text": [
            "II Competição de Programação da Start\n"
          ]
        }
      ]
    },
    {
      "cell_type": "code",
      "source": [
        "import random\n",
        "nota = random.randint(0,10)\n",
        "if nota >= 7:\n",
        "  print(nota)\n",
        "  print('Aprovado!')\n",
        "elif nota > 4:\n",
        "  print(nota)\n",
        "  print('Em recuperação!')\n",
        "else:\n",
        "  print(nota)\n",
        "  print('Reprovado!')"
      ],
      "metadata": {
        "id": "bWnDFfrThLb_",
        "outputId": "bd4907e0-22cd-4614-8cec-2345cede3099",
        "colab": {
          "base_uri": "https://localhost:8080/"
        }
      },
      "execution_count": 27,
      "outputs": [
        {
          "output_type": "stream",
          "name": "stdout",
          "text": [
            "7\n",
            "Aprovado!\n"
          ]
        }
      ]
    }
  ]
}