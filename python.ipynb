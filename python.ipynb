{
  "nbformat": 4,
  "nbformat_minor": 0,
  "metadata": {
    "colab": {
      "provenance": [],
      "authorship_tag": "ABX9TyNiiQx9RtRIHA+xDbnpwF3G",
      "include_colab_link": true
    },
    "kernelspec": {
      "name": "python3",
      "display_name": "Python 3"
    },
    "language_info": {
      "name": "python"
    }
  },
  "cells": [
    {
      "cell_type": "markdown",
      "metadata": {
        "id": "view-in-github",
        "colab_type": "text"
      },
      "source": [
        "<a href=\"https://colab.research.google.com/github/Pietrokanah/Python_Basic/blob/main/python.ipynb\" target=\"_parent\"><img src=\"https://colab.research.google.com/assets/colab-badge.svg\" alt=\"Open In Colab\"/></a>"
      ]
    },
    {
      "cell_type": "code",
      "execution_count": null,
      "metadata": {
        "id": "BOknqF7Dhp_x",
        "outputId": "4577df4d-3498-4567-e45d-eb37b3980d4a",
        "colab": {
          "base_uri": "https://localhost:8080/"
        }
      },
      "outputs": [
        {
          "output_type": "stream",
          "name": "stdout",
          "text": [
            "I Competiçáo de Programação da Start\n"
          ]
        }
      ],
      "source": [
        "print(\"I Competiçáo de Programação da Start\")"
      ]
    },
    {
      "cell_type": "code",
      "source": [
        "ano=\"II\"\n",
        "print(ano, \"Competição de Programação da Start\")"
      ],
      "metadata": {
        "id": "MF3yaHKUjkYO",
        "outputId": "c7a87f90-dfc1-42b6-be04-e4a03fe2e451",
        "colab": {
          "base_uri": "https://localhost:8080/"
        }
      },
      "execution_count": null,
      "outputs": [
        {
          "output_type": "stream",
          "name": "stdout",
          "text": [
            "II Competição de Programação da Start\n"
          ]
        }
      ]
    },
    {
      "cell_type": "code",
      "source": [
        "print(f\"{ano} Competição de Programação da Start\")"
      ],
      "metadata": {
        "id": "E0KoRs1qjyWX",
        "outputId": "133e4199-4b35-4ec6-bc1c-e50375619fe8",
        "colab": {
          "base_uri": "https://localhost:8080/"
        }
      },
      "execution_count": null,
      "outputs": [
        {
          "output_type": "stream",
          "name": "stdout",
          "text": [
            "II Competição de Programação da Start\n"
          ]
        }
      ]
    },
    {
      "cell_type": "markdown",
      "source": [
        "TESTE - PYTHON\n",
        "\n",
        "Elaborar um sistema de aprovação de estudantes;\n",
        "\n",
        "Nota >= 7 aprovado;\n",
        "Nota <7 e >4 recuperação;\n",
        "Nota < 4 reprovado;\n",
        "\n",
        "Pode colocar mensagens também.\n"
      ],
      "metadata": {
        "id": "Db7SvWG0jAB6"
      }
    },
    {
      "cell_type": "code",
      "source": [
        "#importa a biblioteca \"random\" para aleatorizar valores de forma mais fácil\n",
        "import random\n",
        "#aleatoriza o valor de \"nota\"\n",
        "nota = random.randint(0,10)\n",
        "#determina com condições dependendo do valor da nota o resultado \"aprovado\", \"em recuperação\" e \"reprovado\"\n",
        "if nota >= 7:\n",
        "  print(nota)\n",
        "  print('Aprovado!')\n",
        "elif nota > 4:\n",
        "  print(nota)\n",
        "  print('Em recuperação!')\n",
        "else:\n",
        "  print(nota)\n",
        "  print('Reprovado!')"
      ],
      "metadata": {
        "id": "bWnDFfrThLb_",
        "outputId": "f5208a3b-2a74-418e-843b-febf41a994af",
        "colab": {
          "base_uri": "https://localhost:8080/"
        }
      },
      "execution_count": 11,
      "outputs": [
        {
          "output_type": "stream",
          "name": "stdout",
          "text": [
            "6\n",
            "Em recuperação!\n"
          ]
        }
      ]
    },
    {
      "cell_type": "markdown",
      "source": [
        "Desafio em PYTHON.\n",
        "\n",
        "AULA 02\n",
        "\n",
        "Contexto:\n",
        "Uma escola está promovendo uma campanha de incentivo à leitura, em que cada estudante recebe pontos ao concluir livros. Esses pontos podem ser trocados por diferentes premios da escola. As categorias de livros têm valores de pontos diferentes:\n",
        "Livro de ficção: 10 pontos\n",
        "Livro de não-ficção: 8 pontos\n",
        "Livro infantil: 6 pontos\n",
        "Rodrigo leu um livro de cada categoria. Agora ele quer saber quantos pontos acumulou com sua leitura.\n",
        "Nosso objetivo é criar um programa em Python que:\n",
        "Armazene a pontuação de cada categoria de livro em uma variável.\n",
        "Calcule o total de pontos acumulados por Rodrigo.\n",
        "Mostre na tela o total de pontos acumulados por Rodrigo."
      ],
      "metadata": {
        "id": "wM4hHUfdjKwm"
      }
    },
    {
      "cell_type": "code",
      "source": [
        "#categoriza os livros\n",
        "ficcao = 10\n",
        "naoficcao = 8\n",
        "infantil = 6\n",
        "\n",
        "#determina os livros em que rodrigo leu\n",
        "rodrigo = ficcao + naoficcao + infantil\n",
        "\n",
        "print('Rodrigo tem', rodrigo, 'pontos acumulados!')"
      ],
      "metadata": {
        "id": "l0jJeySujREv",
        "outputId": "011d8a28-802d-403f-c1eb-525ee067ea2e",
        "colab": {
          "base_uri": "https://localhost:8080/"
        }
      },
      "execution_count": 8,
      "outputs": [
        {
          "output_type": "stream",
          "name": "stdout",
          "text": [
            "Rodrigo tem 24 pontos acumulados!\n"
          ]
        }
      ]
    }
  ]
}